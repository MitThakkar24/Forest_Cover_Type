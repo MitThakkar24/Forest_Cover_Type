{
 "cells": [
  {
   "cell_type": "code",
   "execution_count": 1,
   "id": "1b0383a0",
   "metadata": {
    "ExecuteTime": {
     "end_time": "2024-04-01T17:25:47.632593Z",
     "start_time": "2024-04-01T17:25:45.547826Z"
    }
   },
   "outputs": [
    {
     "name": "stderr",
     "output_type": "stream",
     "text": [
      "C:\\Users\\Asus\\AppData\\Roaming\\Python\\Python39\\site-packages\\pandas\\core\\computation\\expressions.py:21: UserWarning: Pandas requires version '2.8.4' or newer of 'numexpr' (version '2.8.3' currently installed).\n",
      "  from pandas.core.computation.check import NUMEXPR_INSTALLED\n",
      "C:\\Users\\Asus\\AppData\\Roaming\\Python\\Python39\\site-packages\\pandas\\core\\arrays\\masked.py:60: UserWarning: Pandas requires version '1.3.6' or newer of 'bottleneck' (version '1.3.5' currently installed).\n",
      "  from pandas.core import (\n"
     ]
    }
   ],
   "source": [
    "import pandas as pd\n",
    "import numpy as np\n",
    "import matplotlib.pyplot as plt\n",
    "import seaborn as sns\n",
    "import warnings \n",
    "warnings.filterwarnings('ignore')"
   ]
  },
  {
   "cell_type": "code",
   "execution_count": 2,
   "id": "f74e0e7b",
   "metadata": {
    "ExecuteTime": {
     "end_time": "2024-04-01T17:25:51.938466Z",
     "start_time": "2024-04-01T17:25:47.635588Z"
    }
   },
   "outputs": [
    {
     "data": {
      "text/plain": [
       "(110393, 52)"
      ]
     },
     "execution_count": 2,
     "metadata": {},
     "output_type": "execute_result"
    }
   ],
   "source": [
    "df = pd.read_csv(\"https://raw.githubusercontent.com/MitThakkar24/Forest_Cover_Type/main/forest_cover.csv\")\n",
    "df.shape"
   ]
  },
  {
   "cell_type": "code",
   "execution_count": 3,
   "id": "5668ee82",
   "metadata": {
    "ExecuteTime": {
     "end_time": "2024-04-01T17:25:52.143394Z",
     "start_time": "2024-04-01T17:25:51.939989Z"
    }
   },
   "outputs": [
    {
     "data": {
      "text/html": [
       "<div>\n",
       "<style scoped>\n",
       "    .dataframe tbody tr th:only-of-type {\n",
       "        vertical-align: middle;\n",
       "    }\n",
       "\n",
       "    .dataframe tbody tr th {\n",
       "        vertical-align: top;\n",
       "    }\n",
       "\n",
       "    .dataframe thead th {\n",
       "        text-align: right;\n",
       "    }\n",
       "</style>\n",
       "<table border=\"1\" class=\"dataframe\">\n",
       "  <thead>\n",
       "    <tr style=\"text-align: right;\">\n",
       "      <th></th>\n",
       "      <th>count</th>\n",
       "      <th>mean</th>\n",
       "      <th>std</th>\n",
       "      <th>min</th>\n",
       "      <th>25%</th>\n",
       "      <th>50%</th>\n",
       "      <th>75%</th>\n",
       "      <th>max</th>\n",
       "    </tr>\n",
       "  </thead>\n",
       "  <tbody>\n",
       "    <tr>\n",
       "      <th>elevation</th>\n",
       "      <td>110393.0</td>\n",
       "      <td>2957.980941</td>\n",
       "      <td>280.172681</td>\n",
       "      <td>1871.0</td>\n",
       "      <td>2808.0</td>\n",
       "      <td>2995.0</td>\n",
       "      <td>3162.0</td>\n",
       "      <td>3850.0</td>\n",
       "    </tr>\n",
       "    <tr>\n",
       "      <th>aspect</th>\n",
       "      <td>110393.0</td>\n",
       "      <td>155.388177</td>\n",
       "      <td>111.755317</td>\n",
       "      <td>0.0</td>\n",
       "      <td>58.0</td>\n",
       "      <td>127.0</td>\n",
       "      <td>259.0</td>\n",
       "      <td>360.0</td>\n",
       "    </tr>\n",
       "    <tr>\n",
       "      <th>slope</th>\n",
       "      <td>110393.0</td>\n",
       "      <td>14.095169</td>\n",
       "      <td>7.471291</td>\n",
       "      <td>0.0</td>\n",
       "      <td>9.0</td>\n",
       "      <td>13.0</td>\n",
       "      <td>18.0</td>\n",
       "      <td>65.0</td>\n",
       "    </tr>\n",
       "    <tr>\n",
       "      <th>horizontal_distance_to_hydrology</th>\n",
       "      <td>110393.0</td>\n",
       "      <td>269.780792</td>\n",
       "      <td>212.258001</td>\n",
       "      <td>0.0</td>\n",
       "      <td>108.0</td>\n",
       "      <td>218.0</td>\n",
       "      <td>390.0</td>\n",
       "      <td>1361.0</td>\n",
       "    </tr>\n",
       "    <tr>\n",
       "      <th>Vertical_Distance_To_Hydrology</th>\n",
       "      <td>110393.0</td>\n",
       "      <td>46.552463</td>\n",
       "      <td>58.074995</td>\n",
       "      <td>-173.0</td>\n",
       "      <td>7.0</td>\n",
       "      <td>30.0</td>\n",
       "      <td>69.0</td>\n",
       "      <td>590.0</td>\n",
       "    </tr>\n",
       "    <tr>\n",
       "      <th>Horizontal_Distance_To_Roadways</th>\n",
       "      <td>110393.0</td>\n",
       "      <td>2346.012483</td>\n",
       "      <td>1558.386209</td>\n",
       "      <td>0.0</td>\n",
       "      <td>1104.0</td>\n",
       "      <td>1991.0</td>\n",
       "      <td>3326.0</td>\n",
       "      <td>7087.0</td>\n",
       "    </tr>\n",
       "    <tr>\n",
       "      <th>Horizontal_Distance_To_Fire_Points</th>\n",
       "      <td>110393.0</td>\n",
       "      <td>1979.227632</td>\n",
       "      <td>1322.611941</td>\n",
       "      <td>0.0</td>\n",
       "      <td>1022.0</td>\n",
       "      <td>1710.0</td>\n",
       "      <td>2553.0</td>\n",
       "      <td>7142.0</td>\n",
       "    </tr>\n",
       "    <tr>\n",
       "      <th>wilderness_area1</th>\n",
       "      <td>110393.0</td>\n",
       "      <td>0.446958</td>\n",
       "      <td>0.497181</td>\n",
       "      <td>0.0</td>\n",
       "      <td>0.0</td>\n",
       "      <td>0.0</td>\n",
       "      <td>1.0</td>\n",
       "      <td>1.0</td>\n",
       "    </tr>\n",
       "    <tr>\n",
       "      <th>wilderness_area2</th>\n",
       "      <td>110393.0</td>\n",
       "      <td>0.051471</td>\n",
       "      <td>0.220957</td>\n",
       "      <td>0.0</td>\n",
       "      <td>0.0</td>\n",
       "      <td>0.0</td>\n",
       "      <td>0.0</td>\n",
       "      <td>1.0</td>\n",
       "    </tr>\n",
       "    <tr>\n",
       "      <th>wilderness_area3</th>\n",
       "      <td>110393.0</td>\n",
       "      <td>0.436921</td>\n",
       "      <td>0.496007</td>\n",
       "      <td>0.0</td>\n",
       "      <td>0.0</td>\n",
       "      <td>0.0</td>\n",
       "      <td>1.0</td>\n",
       "      <td>1.0</td>\n",
       "    </tr>\n",
       "    <tr>\n",
       "      <th>wilderness_area4</th>\n",
       "      <td>110393.0</td>\n",
       "      <td>0.064651</td>\n",
       "      <td>0.245910</td>\n",
       "      <td>0.0</td>\n",
       "      <td>0.0</td>\n",
       "      <td>0.0</td>\n",
       "      <td>0.0</td>\n",
       "      <td>1.0</td>\n",
       "    </tr>\n",
       "    <tr>\n",
       "      <th>soil_type_1</th>\n",
       "      <td>110393.0</td>\n",
       "      <td>0.005480</td>\n",
       "      <td>0.073827</td>\n",
       "      <td>0.0</td>\n",
       "      <td>0.0</td>\n",
       "      <td>0.0</td>\n",
       "      <td>0.0</td>\n",
       "      <td>1.0</td>\n",
       "    </tr>\n",
       "    <tr>\n",
       "      <th>soil_type_2</th>\n",
       "      <td>110393.0</td>\n",
       "      <td>0.013298</td>\n",
       "      <td>0.114548</td>\n",
       "      <td>0.0</td>\n",
       "      <td>0.0</td>\n",
       "      <td>0.0</td>\n",
       "      <td>0.0</td>\n",
       "      <td>1.0</td>\n",
       "    </tr>\n",
       "    <tr>\n",
       "      <th>soil_type_3</th>\n",
       "      <td>110393.0</td>\n",
       "      <td>0.007863</td>\n",
       "      <td>0.088324</td>\n",
       "      <td>0.0</td>\n",
       "      <td>0.0</td>\n",
       "      <td>0.0</td>\n",
       "      <td>0.0</td>\n",
       "      <td>1.0</td>\n",
       "    </tr>\n",
       "    <tr>\n",
       "      <th>soil_type_4</th>\n",
       "      <td>110393.0</td>\n",
       "      <td>0.020817</td>\n",
       "      <td>0.142770</td>\n",
       "      <td>0.0</td>\n",
       "      <td>0.0</td>\n",
       "      <td>0.0</td>\n",
       "      <td>0.0</td>\n",
       "      <td>1.0</td>\n",
       "    </tr>\n",
       "    <tr>\n",
       "      <th>soil_type_5</th>\n",
       "      <td>110393.0</td>\n",
       "      <td>0.002672</td>\n",
       "      <td>0.051625</td>\n",
       "      <td>0.0</td>\n",
       "      <td>0.0</td>\n",
       "      <td>0.0</td>\n",
       "      <td>0.0</td>\n",
       "      <td>1.0</td>\n",
       "    </tr>\n",
       "    <tr>\n",
       "      <th>soil_type_6</th>\n",
       "      <td>110393.0</td>\n",
       "      <td>0.011441</td>\n",
       "      <td>0.106349</td>\n",
       "      <td>0.0</td>\n",
       "      <td>0.0</td>\n",
       "      <td>0.0</td>\n",
       "      <td>0.0</td>\n",
       "      <td>1.0</td>\n",
       "    </tr>\n",
       "    <tr>\n",
       "      <th>soil_type_7</th>\n",
       "      <td>110393.0</td>\n",
       "      <td>0.000127</td>\n",
       "      <td>0.011261</td>\n",
       "      <td>0.0</td>\n",
       "      <td>0.0</td>\n",
       "      <td>0.0</td>\n",
       "      <td>0.0</td>\n",
       "      <td>1.0</td>\n",
       "    </tr>\n",
       "    <tr>\n",
       "      <th>soil_type_8</th>\n",
       "      <td>110393.0</td>\n",
       "      <td>0.000317</td>\n",
       "      <td>0.017803</td>\n",
       "      <td>0.0</td>\n",
       "      <td>0.0</td>\n",
       "      <td>0.0</td>\n",
       "      <td>0.0</td>\n",
       "      <td>1.0</td>\n",
       "    </tr>\n",
       "    <tr>\n",
       "      <th>soil_type_9</th>\n",
       "      <td>110393.0</td>\n",
       "      <td>0.002056</td>\n",
       "      <td>0.045300</td>\n",
       "      <td>0.0</td>\n",
       "      <td>0.0</td>\n",
       "      <td>0.0</td>\n",
       "      <td>0.0</td>\n",
       "      <td>1.0</td>\n",
       "    </tr>\n",
       "    <tr>\n",
       "      <th>soil_type_10</th>\n",
       "      <td>110393.0</td>\n",
       "      <td>0.057042</td>\n",
       "      <td>0.231923</td>\n",
       "      <td>0.0</td>\n",
       "      <td>0.0</td>\n",
       "      <td>0.0</td>\n",
       "      <td>0.0</td>\n",
       "      <td>1.0</td>\n",
       "    </tr>\n",
       "    <tr>\n",
       "      <th>soil_type_11</th>\n",
       "      <td>110393.0</td>\n",
       "      <td>0.021876</td>\n",
       "      <td>0.146281</td>\n",
       "      <td>0.0</td>\n",
       "      <td>0.0</td>\n",
       "      <td>0.0</td>\n",
       "      <td>0.0</td>\n",
       "      <td>1.0</td>\n",
       "    </tr>\n",
       "    <tr>\n",
       "      <th>soil_type_12</th>\n",
       "      <td>110393.0</td>\n",
       "      <td>0.050655</td>\n",
       "      <td>0.219294</td>\n",
       "      <td>0.0</td>\n",
       "      <td>0.0</td>\n",
       "      <td>0.0</td>\n",
       "      <td>0.0</td>\n",
       "      <td>1.0</td>\n",
       "    </tr>\n",
       "    <tr>\n",
       "      <th>soil_type_13</th>\n",
       "      <td>110393.0</td>\n",
       "      <td>0.029504</td>\n",
       "      <td>0.169214</td>\n",
       "      <td>0.0</td>\n",
       "      <td>0.0</td>\n",
       "      <td>0.0</td>\n",
       "      <td>0.0</td>\n",
       "      <td>1.0</td>\n",
       "    </tr>\n",
       "    <tr>\n",
       "      <th>soil_type_14</th>\n",
       "      <td>110393.0</td>\n",
       "      <td>0.001051</td>\n",
       "      <td>0.032399</td>\n",
       "      <td>0.0</td>\n",
       "      <td>0.0</td>\n",
       "      <td>0.0</td>\n",
       "      <td>0.0</td>\n",
       "      <td>1.0</td>\n",
       "    </tr>\n",
       "    <tr>\n",
       "      <th>soil_type_15</th>\n",
       "      <td>110393.0</td>\n",
       "      <td>0.000009</td>\n",
       "      <td>0.003010</td>\n",
       "      <td>0.0</td>\n",
       "      <td>0.0</td>\n",
       "      <td>0.0</td>\n",
       "      <td>0.0</td>\n",
       "      <td>1.0</td>\n",
       "    </tr>\n",
       "    <tr>\n",
       "      <th>soil_type_16</th>\n",
       "      <td>110393.0</td>\n",
       "      <td>0.005046</td>\n",
       "      <td>0.070853</td>\n",
       "      <td>0.0</td>\n",
       "      <td>0.0</td>\n",
       "      <td>0.0</td>\n",
       "      <td>0.0</td>\n",
       "      <td>1.0</td>\n",
       "    </tr>\n",
       "    <tr>\n",
       "      <th>soil_type_17</th>\n",
       "      <td>110393.0</td>\n",
       "      <td>0.005653</td>\n",
       "      <td>0.074971</td>\n",
       "      <td>0.0</td>\n",
       "      <td>0.0</td>\n",
       "      <td>0.0</td>\n",
       "      <td>0.0</td>\n",
       "      <td>1.0</td>\n",
       "    </tr>\n",
       "    <tr>\n",
       "      <th>soil_type_18</th>\n",
       "      <td>110393.0</td>\n",
       "      <td>0.003134</td>\n",
       "      <td>0.055897</td>\n",
       "      <td>0.0</td>\n",
       "      <td>0.0</td>\n",
       "      <td>0.0</td>\n",
       "      <td>0.0</td>\n",
       "      <td>1.0</td>\n",
       "    </tr>\n",
       "    <tr>\n",
       "      <th>soil_type_19</th>\n",
       "      <td>110393.0</td>\n",
       "      <td>0.006649</td>\n",
       "      <td>0.081270</td>\n",
       "      <td>0.0</td>\n",
       "      <td>0.0</td>\n",
       "      <td>0.0</td>\n",
       "      <td>0.0</td>\n",
       "      <td>1.0</td>\n",
       "    </tr>\n",
       "    <tr>\n",
       "      <th>soil_type_20</th>\n",
       "      <td>110393.0</td>\n",
       "      <td>0.016206</td>\n",
       "      <td>0.126267</td>\n",
       "      <td>0.0</td>\n",
       "      <td>0.0</td>\n",
       "      <td>0.0</td>\n",
       "      <td>0.0</td>\n",
       "      <td>1.0</td>\n",
       "    </tr>\n",
       "    <tr>\n",
       "      <th>soil_type_21</th>\n",
       "      <td>110393.0</td>\n",
       "      <td>0.001359</td>\n",
       "      <td>0.036837</td>\n",
       "      <td>0.0</td>\n",
       "      <td>0.0</td>\n",
       "      <td>0.0</td>\n",
       "      <td>0.0</td>\n",
       "      <td>1.0</td>\n",
       "    </tr>\n",
       "    <tr>\n",
       "      <th>soil_type_22</th>\n",
       "      <td>110393.0</td>\n",
       "      <td>0.057132</td>\n",
       "      <td>0.232096</td>\n",
       "      <td>0.0</td>\n",
       "      <td>0.0</td>\n",
       "      <td>0.0</td>\n",
       "      <td>0.0</td>\n",
       "      <td>1.0</td>\n",
       "    </tr>\n",
       "    <tr>\n",
       "      <th>soil_type_23</th>\n",
       "      <td>110393.0</td>\n",
       "      <td>0.098892</td>\n",
       "      <td>0.298518</td>\n",
       "      <td>0.0</td>\n",
       "      <td>0.0</td>\n",
       "      <td>0.0</td>\n",
       "      <td>0.0</td>\n",
       "      <td>1.0</td>\n",
       "    </tr>\n",
       "    <tr>\n",
       "      <th>soil_type_24</th>\n",
       "      <td>110393.0</td>\n",
       "      <td>0.036334</td>\n",
       "      <td>0.187120</td>\n",
       "      <td>0.0</td>\n",
       "      <td>0.0</td>\n",
       "      <td>0.0</td>\n",
       "      <td>0.0</td>\n",
       "      <td>1.0</td>\n",
       "    </tr>\n",
       "    <tr>\n",
       "      <th>soil_type_25</th>\n",
       "      <td>110393.0</td>\n",
       "      <td>0.000788</td>\n",
       "      <td>0.028062</td>\n",
       "      <td>0.0</td>\n",
       "      <td>0.0</td>\n",
       "      <td>0.0</td>\n",
       "      <td>0.0</td>\n",
       "      <td>1.0</td>\n",
       "    </tr>\n",
       "    <tr>\n",
       "      <th>soil_type_26</th>\n",
       "      <td>110393.0</td>\n",
       "      <td>0.004638</td>\n",
       "      <td>0.067945</td>\n",
       "      <td>0.0</td>\n",
       "      <td>0.0</td>\n",
       "      <td>0.0</td>\n",
       "      <td>0.0</td>\n",
       "      <td>1.0</td>\n",
       "    </tr>\n",
       "    <tr>\n",
       "      <th>soil_type_27</th>\n",
       "      <td>110393.0</td>\n",
       "      <td>0.002102</td>\n",
       "      <td>0.045795</td>\n",
       "      <td>0.0</td>\n",
       "      <td>0.0</td>\n",
       "      <td>0.0</td>\n",
       "      <td>0.0</td>\n",
       "      <td>1.0</td>\n",
       "    </tr>\n",
       "    <tr>\n",
       "      <th>soil_type_28</th>\n",
       "      <td>110393.0</td>\n",
       "      <td>0.001730</td>\n",
       "      <td>0.041560</td>\n",
       "      <td>0.0</td>\n",
       "      <td>0.0</td>\n",
       "      <td>0.0</td>\n",
       "      <td>0.0</td>\n",
       "      <td>1.0</td>\n",
       "    </tr>\n",
       "    <tr>\n",
       "      <th>soil_type_29</th>\n",
       "      <td>110393.0</td>\n",
       "      <td>0.199071</td>\n",
       "      <td>0.399303</td>\n",
       "      <td>0.0</td>\n",
       "      <td>0.0</td>\n",
       "      <td>0.0</td>\n",
       "      <td>0.0</td>\n",
       "      <td>1.0</td>\n",
       "    </tr>\n",
       "    <tr>\n",
       "      <th>soil_type_30</th>\n",
       "      <td>110393.0</td>\n",
       "      <td>0.051453</td>\n",
       "      <td>0.220920</td>\n",
       "      <td>0.0</td>\n",
       "      <td>0.0</td>\n",
       "      <td>0.0</td>\n",
       "      <td>0.0</td>\n",
       "      <td>1.0</td>\n",
       "    </tr>\n",
       "    <tr>\n",
       "      <th>soil_type_31</th>\n",
       "      <td>110393.0</td>\n",
       "      <td>0.044514</td>\n",
       "      <td>0.206234</td>\n",
       "      <td>0.0</td>\n",
       "      <td>0.0</td>\n",
       "      <td>0.0</td>\n",
       "      <td>0.0</td>\n",
       "      <td>1.0</td>\n",
       "    </tr>\n",
       "    <tr>\n",
       "      <th>soil_type_32</th>\n",
       "      <td>110393.0</td>\n",
       "      <td>0.090676</td>\n",
       "      <td>0.287149</td>\n",
       "      <td>0.0</td>\n",
       "      <td>0.0</td>\n",
       "      <td>0.0</td>\n",
       "      <td>0.0</td>\n",
       "      <td>1.0</td>\n",
       "    </tr>\n",
       "    <tr>\n",
       "      <th>soil_type_33</th>\n",
       "      <td>110393.0</td>\n",
       "      <td>0.078882</td>\n",
       "      <td>0.269555</td>\n",
       "      <td>0.0</td>\n",
       "      <td>0.0</td>\n",
       "      <td>0.0</td>\n",
       "      <td>0.0</td>\n",
       "      <td>1.0</td>\n",
       "    </tr>\n",
       "    <tr>\n",
       "      <th>soil_type_34</th>\n",
       "      <td>110393.0</td>\n",
       "      <td>0.002772</td>\n",
       "      <td>0.052576</td>\n",
       "      <td>0.0</td>\n",
       "      <td>0.0</td>\n",
       "      <td>0.0</td>\n",
       "      <td>0.0</td>\n",
       "      <td>1.0</td>\n",
       "    </tr>\n",
       "    <tr>\n",
       "      <th>soil_type_35</th>\n",
       "      <td>110393.0</td>\n",
       "      <td>0.003370</td>\n",
       "      <td>0.057952</td>\n",
       "      <td>0.0</td>\n",
       "      <td>0.0</td>\n",
       "      <td>0.0</td>\n",
       "      <td>0.0</td>\n",
       "      <td>1.0</td>\n",
       "    </tr>\n",
       "    <tr>\n",
       "      <th>soil_type_36</th>\n",
       "      <td>110393.0</td>\n",
       "      <td>0.000172</td>\n",
       "      <td>0.013118</td>\n",
       "      <td>0.0</td>\n",
       "      <td>0.0</td>\n",
       "      <td>0.0</td>\n",
       "      <td>0.0</td>\n",
       "      <td>1.0</td>\n",
       "    </tr>\n",
       "    <tr>\n",
       "      <th>soil_type_37</th>\n",
       "      <td>110393.0</td>\n",
       "      <td>0.000507</td>\n",
       "      <td>0.022517</td>\n",
       "      <td>0.0</td>\n",
       "      <td>0.0</td>\n",
       "      <td>0.0</td>\n",
       "      <td>0.0</td>\n",
       "      <td>1.0</td>\n",
       "    </tr>\n",
       "    <tr>\n",
       "      <th>soil_type_38</th>\n",
       "      <td>110393.0</td>\n",
       "      <td>0.026650</td>\n",
       "      <td>0.161060</td>\n",
       "      <td>0.0</td>\n",
       "      <td>0.0</td>\n",
       "      <td>0.0</td>\n",
       "      <td>0.0</td>\n",
       "      <td>1.0</td>\n",
       "    </tr>\n",
       "    <tr>\n",
       "      <th>soil_type_39</th>\n",
       "      <td>110393.0</td>\n",
       "      <td>0.022710</td>\n",
       "      <td>0.148977</td>\n",
       "      <td>0.0</td>\n",
       "      <td>0.0</td>\n",
       "      <td>0.0</td>\n",
       "      <td>0.0</td>\n",
       "      <td>1.0</td>\n",
       "    </tr>\n",
       "    <tr>\n",
       "      <th>soil_type_40</th>\n",
       "      <td>110393.0</td>\n",
       "      <td>0.015354</td>\n",
       "      <td>0.122958</td>\n",
       "      <td>0.0</td>\n",
       "      <td>0.0</td>\n",
       "      <td>0.0</td>\n",
       "      <td>0.0</td>\n",
       "      <td>1.0</td>\n",
       "    </tr>\n",
       "  </tbody>\n",
       "</table>\n",
       "</div>"
      ],
      "text/plain": [
       "                                       count         mean          std  \\\n",
       "elevation                           110393.0  2957.980941   280.172681   \n",
       "aspect                              110393.0   155.388177   111.755317   \n",
       "slope                               110393.0    14.095169     7.471291   \n",
       "horizontal_distance_to_hydrology    110393.0   269.780792   212.258001   \n",
       "Vertical_Distance_To_Hydrology      110393.0    46.552463    58.074995   \n",
       "Horizontal_Distance_To_Roadways     110393.0  2346.012483  1558.386209   \n",
       "Horizontal_Distance_To_Fire_Points  110393.0  1979.227632  1322.611941   \n",
       "wilderness_area1                    110393.0     0.446958     0.497181   \n",
       "wilderness_area2                    110393.0     0.051471     0.220957   \n",
       "wilderness_area3                    110393.0     0.436921     0.496007   \n",
       "wilderness_area4                    110393.0     0.064651     0.245910   \n",
       "soil_type_1                         110393.0     0.005480     0.073827   \n",
       "soil_type_2                         110393.0     0.013298     0.114548   \n",
       "soil_type_3                         110393.0     0.007863     0.088324   \n",
       "soil_type_4                         110393.0     0.020817     0.142770   \n",
       "soil_type_5                         110393.0     0.002672     0.051625   \n",
       "soil_type_6                         110393.0     0.011441     0.106349   \n",
       "soil_type_7                         110393.0     0.000127     0.011261   \n",
       "soil_type_8                         110393.0     0.000317     0.017803   \n",
       "soil_type_9                         110393.0     0.002056     0.045300   \n",
       "soil_type_10                        110393.0     0.057042     0.231923   \n",
       "soil_type_11                        110393.0     0.021876     0.146281   \n",
       "soil_type_12                        110393.0     0.050655     0.219294   \n",
       "soil_type_13                        110393.0     0.029504     0.169214   \n",
       "soil_type_14                        110393.0     0.001051     0.032399   \n",
       "soil_type_15                        110393.0     0.000009     0.003010   \n",
       "soil_type_16                        110393.0     0.005046     0.070853   \n",
       "soil_type_17                        110393.0     0.005653     0.074971   \n",
       "soil_type_18                        110393.0     0.003134     0.055897   \n",
       "soil_type_19                        110393.0     0.006649     0.081270   \n",
       "soil_type_20                        110393.0     0.016206     0.126267   \n",
       "soil_type_21                        110393.0     0.001359     0.036837   \n",
       "soil_type_22                        110393.0     0.057132     0.232096   \n",
       "soil_type_23                        110393.0     0.098892     0.298518   \n",
       "soil_type_24                        110393.0     0.036334     0.187120   \n",
       "soil_type_25                        110393.0     0.000788     0.028062   \n",
       "soil_type_26                        110393.0     0.004638     0.067945   \n",
       "soil_type_27                        110393.0     0.002102     0.045795   \n",
       "soil_type_28                        110393.0     0.001730     0.041560   \n",
       "soil_type_29                        110393.0     0.199071     0.399303   \n",
       "soil_type_30                        110393.0     0.051453     0.220920   \n",
       "soil_type_31                        110393.0     0.044514     0.206234   \n",
       "soil_type_32                        110393.0     0.090676     0.287149   \n",
       "soil_type_33                        110393.0     0.078882     0.269555   \n",
       "soil_type_34                        110393.0     0.002772     0.052576   \n",
       "soil_type_35                        110393.0     0.003370     0.057952   \n",
       "soil_type_36                        110393.0     0.000172     0.013118   \n",
       "soil_type_37                        110393.0     0.000507     0.022517   \n",
       "soil_type_38                        110393.0     0.026650     0.161060   \n",
       "soil_type_39                        110393.0     0.022710     0.148977   \n",
       "soil_type_40                        110393.0     0.015354     0.122958   \n",
       "\n",
       "                                       min     25%     50%     75%     max  \n",
       "elevation                           1871.0  2808.0  2995.0  3162.0  3850.0  \n",
       "aspect                                 0.0    58.0   127.0   259.0   360.0  \n",
       "slope                                  0.0     9.0    13.0    18.0    65.0  \n",
       "horizontal_distance_to_hydrology       0.0   108.0   218.0   390.0  1361.0  \n",
       "Vertical_Distance_To_Hydrology      -173.0     7.0    30.0    69.0   590.0  \n",
       "Horizontal_Distance_To_Roadways        0.0  1104.0  1991.0  3326.0  7087.0  \n",
       "Horizontal_Distance_To_Fire_Points     0.0  1022.0  1710.0  2553.0  7142.0  \n",
       "wilderness_area1                       0.0     0.0     0.0     1.0     1.0  \n",
       "wilderness_area2                       0.0     0.0     0.0     0.0     1.0  \n",
       "wilderness_area3                       0.0     0.0     0.0     1.0     1.0  \n",
       "wilderness_area4                       0.0     0.0     0.0     0.0     1.0  \n",
       "soil_type_1                            0.0     0.0     0.0     0.0     1.0  \n",
       "soil_type_2                            0.0     0.0     0.0     0.0     1.0  \n",
       "soil_type_3                            0.0     0.0     0.0     0.0     1.0  \n",
       "soil_type_4                            0.0     0.0     0.0     0.0     1.0  \n",
       "soil_type_5                            0.0     0.0     0.0     0.0     1.0  \n",
       "soil_type_6                            0.0     0.0     0.0     0.0     1.0  \n",
       "soil_type_7                            0.0     0.0     0.0     0.0     1.0  \n",
       "soil_type_8                            0.0     0.0     0.0     0.0     1.0  \n",
       "soil_type_9                            0.0     0.0     0.0     0.0     1.0  \n",
       "soil_type_10                           0.0     0.0     0.0     0.0     1.0  \n",
       "soil_type_11                           0.0     0.0     0.0     0.0     1.0  \n",
       "soil_type_12                           0.0     0.0     0.0     0.0     1.0  \n",
       "soil_type_13                           0.0     0.0     0.0     0.0     1.0  \n",
       "soil_type_14                           0.0     0.0     0.0     0.0     1.0  \n",
       "soil_type_15                           0.0     0.0     0.0     0.0     1.0  \n",
       "soil_type_16                           0.0     0.0     0.0     0.0     1.0  \n",
       "soil_type_17                           0.0     0.0     0.0     0.0     1.0  \n",
       "soil_type_18                           0.0     0.0     0.0     0.0     1.0  \n",
       "soil_type_19                           0.0     0.0     0.0     0.0     1.0  \n",
       "soil_type_20                           0.0     0.0     0.0     0.0     1.0  \n",
       "soil_type_21                           0.0     0.0     0.0     0.0     1.0  \n",
       "soil_type_22                           0.0     0.0     0.0     0.0     1.0  \n",
       "soil_type_23                           0.0     0.0     0.0     0.0     1.0  \n",
       "soil_type_24                           0.0     0.0     0.0     0.0     1.0  \n",
       "soil_type_25                           0.0     0.0     0.0     0.0     1.0  \n",
       "soil_type_26                           0.0     0.0     0.0     0.0     1.0  \n",
       "soil_type_27                           0.0     0.0     0.0     0.0     1.0  \n",
       "soil_type_28                           0.0     0.0     0.0     0.0     1.0  \n",
       "soil_type_29                           0.0     0.0     0.0     0.0     1.0  \n",
       "soil_type_30                           0.0     0.0     0.0     0.0     1.0  \n",
       "soil_type_31                           0.0     0.0     0.0     0.0     1.0  \n",
       "soil_type_32                           0.0     0.0     0.0     0.0     1.0  \n",
       "soil_type_33                           0.0     0.0     0.0     0.0     1.0  \n",
       "soil_type_34                           0.0     0.0     0.0     0.0     1.0  \n",
       "soil_type_35                           0.0     0.0     0.0     0.0     1.0  \n",
       "soil_type_36                           0.0     0.0     0.0     0.0     1.0  \n",
       "soil_type_37                           0.0     0.0     0.0     0.0     1.0  \n",
       "soil_type_38                           0.0     0.0     0.0     0.0     1.0  \n",
       "soil_type_39                           0.0     0.0     0.0     0.0     1.0  \n",
       "soil_type_40                           0.0     0.0     0.0     0.0     1.0  "
      ]
     },
     "execution_count": 3,
     "metadata": {},
     "output_type": "execute_result"
    }
   ],
   "source": [
    "df.describe().T"
   ]
  },
  {
   "cell_type": "code",
   "execution_count": 4,
   "id": "dc215c00",
   "metadata": {
    "ExecuteTime": {
     "end_time": "2024-04-01T17:25:52.174571Z",
     "start_time": "2024-04-01T17:25:52.145393Z"
    }
   },
   "outputs": [
    {
     "data": {
      "text/plain": [
       "0         0\n",
       "1         1\n",
       "2         1\n",
       "3         2\n",
       "4         2\n",
       "         ..\n",
       "110388    6\n",
       "110389    6\n",
       "110390    6\n",
       "110391    6\n",
       "110392    6\n",
       "Name: class, Length: 110393, dtype: int64"
      ]
     },
     "execution_count": 4,
     "metadata": {},
     "output_type": "execute_result"
    }
   ],
   "source": [
    "df['class'] = df['class'].map({\"Lodgepole_Pine\" : 0, \"Spruce_Fir\" : 1,\"Douglas_fir\" :2,\"Krummholz\" : 3,\"Ponderosa_Pine\" : 4,\"Aspen\" :5,\"Cottonwood_Willow\" : 6})\n",
    "df['class']"
   ]
  },
  {
   "cell_type": "code",
   "execution_count": 5,
   "id": "7fd9aea2",
   "metadata": {
    "ExecuteTime": {
     "end_time": "2024-04-01T17:25:52.206489Z",
     "start_time": "2024-04-01T17:25:52.176493Z"
    }
   },
   "outputs": [],
   "source": [
    "X, y = df.drop(\"class\",axis=1),df['class']"
   ]
  },
  {
   "cell_type": "code",
   "execution_count": 6,
   "id": "3f9f1d05",
   "metadata": {
    "ExecuteTime": {
     "end_time": "2024-04-01T17:25:52.221920Z",
     "start_time": "2024-04-01T17:25:52.207394Z"
    }
   },
   "outputs": [],
   "source": [
    "categorical = []\n",
    "numerical = []\n",
    "\n",
    "for i in X.columns:\n",
    "    if i[:9] == 'soil_type' or i[:15] == 'wilderness_area':\n",
    "        categorical.append(i)\n",
    "    else:\n",
    "        numerical.append(i)"
   ]
  },
  {
   "cell_type": "code",
   "execution_count": 7,
   "id": "63c89c61",
   "metadata": {
    "ExecuteTime": {
     "end_time": "2024-04-01T17:25:52.238595Z",
     "start_time": "2024-04-01T17:25:52.223925Z"
    }
   },
   "outputs": [
    {
     "data": {
      "text/plain": [
       "['wilderness_area1',\n",
       " 'wilderness_area2',\n",
       " 'wilderness_area3',\n",
       " 'wilderness_area4',\n",
       " 'soil_type_1',\n",
       " 'soil_type_2',\n",
       " 'soil_type_3',\n",
       " 'soil_type_4',\n",
       " 'soil_type_5',\n",
       " 'soil_type_6',\n",
       " 'soil_type_7',\n",
       " 'soil_type_8',\n",
       " 'soil_type_9',\n",
       " 'soil_type_10',\n",
       " 'soil_type_11',\n",
       " 'soil_type_12',\n",
       " 'soil_type_13',\n",
       " 'soil_type_14',\n",
       " 'soil_type_15',\n",
       " 'soil_type_16',\n",
       " 'soil_type_17',\n",
       " 'soil_type_18',\n",
       " 'soil_type_19',\n",
       " 'soil_type_20',\n",
       " 'soil_type_21',\n",
       " 'soil_type_22',\n",
       " 'soil_type_23',\n",
       " 'soil_type_24',\n",
       " 'soil_type_25',\n",
       " 'soil_type_26',\n",
       " 'soil_type_27',\n",
       " 'soil_type_28',\n",
       " 'soil_type_29',\n",
       " 'soil_type_30',\n",
       " 'soil_type_31',\n",
       " 'soil_type_32',\n",
       " 'soil_type_33',\n",
       " 'soil_type_34',\n",
       " 'soil_type_35',\n",
       " 'soil_type_36',\n",
       " 'soil_type_37',\n",
       " 'soil_type_38',\n",
       " 'soil_type_39',\n",
       " 'soil_type_40']"
      ]
     },
     "execution_count": 7,
     "metadata": {},
     "output_type": "execute_result"
    }
   ],
   "source": [
    "categorical"
   ]
  },
  {
   "cell_type": "code",
   "execution_count": 8,
   "id": "30c76286",
   "metadata": {
    "ExecuteTime": {
     "end_time": "2024-04-01T17:25:52.254056Z",
     "start_time": "2024-04-01T17:25:52.240521Z"
    }
   },
   "outputs": [
    {
     "data": {
      "text/plain": [
       "['elevation',\n",
       " 'aspect',\n",
       " 'slope',\n",
       " 'horizontal_distance_to_hydrology',\n",
       " 'Vertical_Distance_To_Hydrology',\n",
       " 'Horizontal_Distance_To_Roadways',\n",
       " 'Horizontal_Distance_To_Fire_Points']"
      ]
     },
     "execution_count": 8,
     "metadata": {},
     "output_type": "execute_result"
    }
   ],
   "source": [
    "numerical"
   ]
  },
  {
   "cell_type": "code",
   "execution_count": 9,
   "id": "53009be5",
   "metadata": {
    "ExecuteTime": {
     "end_time": "2024-04-01T17:25:52.428428Z",
     "start_time": "2024-04-01T17:25:52.257065Z"
    }
   },
   "outputs": [
    {
     "data": {
      "text/plain": [
       "<AxesSubplot:xlabel='class'>"
      ]
     },
     "execution_count": 9,
     "metadata": {},
     "output_type": "execute_result"
    },
    {
     "data": {
      "image/png": "[encoded data removed]",
      "text/plain": [
       "<Figure size 640x480 with 1 Axes>"
      ]
     },
     "metadata": {},
     "output_type": "display_data"
    }
   ],
   "source": [
    "df['class'].value_counts().plot(kind='bar')"
   ]
  },
  {
   "cell_type": "code",
   "execution_count": 10,
   "id": "80ac576d",
   "metadata": {
    "ExecuteTime": {
     "end_time": "2024-04-01T17:25:56.573086Z",
     "start_time": "2024-04-01T17:25:52.431956Z"
    }
   },
   "outputs": [
    {
     "data": {
      "image/png": "[encoded data removed]",
      "text/plain": [
       "<Figure size 1500x6000 with 7 Axes>"
      ]
     },
     "metadata": {},
     "output_type": "display_data"
    }
   ],
   "source": [
    "plt.figure(figsize=(15,60), facecolor='white')\n",
    "plotnumber =1\n",
    "\n",
    "for column in numerical:\n",
    "    ax = plt.subplot(16,3,plotnumber)\n",
    "    sns.distplot(df[column],kde=True)\n",
    "    plt.xlabel(column,fontsize=10)\n",
    "    plotnumber+=1\n",
    "plt.show()"
   ]
  },
  {
   "cell_type": "code",
   "execution_count": 11,
   "id": "4dae38fb",
   "metadata": {
    "ExecuteTime": {
     "end_time": "2024-04-01T17:25:56.901501Z",
     "start_time": "2024-04-01T17:25:56.576109Z"
    }
   },
   "outputs": [],
   "source": [
    "from sklearn.model_selection import train_test_split\n",
    "from sklearn.preprocessing import RobustScaler\n",
    "ss = RobustScaler()\n",
    "\n",
    "Xtrain, Xtest, ytrain, ytest = train_test_split(X, y, test_size = 0.30, random_state = 23)\n",
    "\n",
    "Xtrain[numerical] = ss.fit_transform(Xtrain[numerical] )\n",
    "Xtest[numerical] = ss.transform(Xtest[numerical] )"
   ]
  },
  {
   "cell_type": "code",
   "execution_count": 12,
   "id": "95f8d44c",
   "metadata": {
    "ExecuteTime": {
     "end_time": "2024-04-01T17:25:56.917005Z",
     "start_time": "2024-04-01T17:25:56.902489Z"
    }
   },
   "outputs": [
    {
     "data": {
      "text/plain": [
       "class\n",
       "0    51682\n",
       "1    38906\n",
       "4     7375\n",
       "3     4508\n",
       "2     3969\n",
       "5     2614\n",
       "6     1339\n",
       "Name: count, dtype: int64"
      ]
     },
     "execution_count": 12,
     "metadata": {},
     "output_type": "execute_result"
    }
   ],
   "source": [
    "y.value_counts()"
   ]
  },
  {
   "cell_type": "code",
   "execution_count": 13,
   "id": "6b2e8afc",
   "metadata": {
    "ExecuteTime": {
     "end_time": "2024-04-01T17:25:57.025012Z",
     "start_time": "2024-04-01T17:25:56.918997Z"
    }
   },
   "outputs": [
    {
     "data": {
      "text/plain": [
       "<AxesSubplot:xlabel='class'>"
      ]
     },
     "execution_count": 13,
     "metadata": {},
     "output_type": "execute_result"
    },
    {
     "data": {
      "image/png": "[encoded data removed]",
      "text/plain": [
       "<Figure size 640x480 with 1 Axes>"
      ]
     },
     "metadata": {},
     "output_type": "display_data"
    }
   ],
   "source": [
    "df['class'].value_counts().plot(kind='bar')"
   ]
  },
  {
   "cell_type": "code",
   "execution_count": 14,
   "id": "b62687bb",
   "metadata": {
    "ExecuteTime": {
     "end_time": "2024-04-01T17:26:27.642279Z",
     "start_time": "2024-04-01T17:25:57.026571Z"
    }
   },
   "outputs": [
    {
     "data": {
      "text/plain": [
       "(        elevation  aspect  slope  horizontal_distance_to_hydrology  \\\n",
       " 0            2754     146      5                               150   \n",
       " 1            3219      21      8                                67   \n",
       " 2            2965     337     16                                42   \n",
       " 3            2368      14     15                               150   \n",
       " 4            2366     165      3                               390   \n",
       " ...           ...     ...    ...                               ...   \n",
       " 361769       2435      82     21                                22   \n",
       " 361770       2971      85     18                               468   \n",
       " 361771       2153     125     32                                70   \n",
       " 361772       2199     139     27                                32   \n",
       " 361773       3153      48     11                               345   \n",
       " \n",
       "         Vertical_Distance_To_Hydrology  Horizontal_Distance_To_Roadways  \\\n",
       " 0                                    2                             1790   \n",
       " 1                                   -1                             2869   \n",
       " 2                                    7                             4288   \n",
       " 3                                   65                             1006   \n",
       " 4                                  156                             1165   \n",
       " ...                                ...                              ...   \n",
       " 361769                               8                              902   \n",
       " 361770                             183                              940   \n",
       " 361771                              41                             1015   \n",
       " 361772                              19                             1146   \n",
       " 361773                              54                             3370   \n",
       " \n",
       "         Horizontal_Distance_To_Fire_Points  wilderness_area1  \\\n",
       " 0                                      700                 1   \n",
       " 1                                     1825                 0   \n",
       " 2                                      324                 1   \n",
       " 3                                      812                 0   \n",
       " 4                                      582                 0   \n",
       " ...                                    ...               ...   \n",
       " 361769                                 868                 0   \n",
       " 361770                                 664                 0   \n",
       " 361771                                 367                 0   \n",
       " 361772                                1146                 0   \n",
       " 361773                                3242                 1   \n",
       " \n",
       "         wilderness_area2  wilderness_area3  ...  soil_type_31  soil_type_32  \\\n",
       " 0                      0                 0  ...             0             0   \n",
       " 1                      0                 1  ...             1             0   \n",
       " 2                      0                 0  ...             0             0   \n",
       " 3                      0                 0  ...             0             0   \n",
       " 4                      0                 0  ...             0             0   \n",
       " ...                  ...               ...  ...           ...           ...   \n",
       " 361769                 0                 0  ...             0             0   \n",
       " 361770                 0                 0  ...             0             0   \n",
       " 361771                 0                 0  ...             0             0   \n",
       " 361772                 0                 0  ...             0             0   \n",
       " 361773                 0                 0  ...             0             0   \n",
       " \n",
       "         soil_type_33  soil_type_34  soil_type_35  soil_type_36  soil_type_37  \\\n",
       " 0                  0             0             0             0             0   \n",
       " 1                  0             0             0             0             0   \n",
       " 2                  0             0             0             0             0   \n",
       " 3                  0             0             0             0             0   \n",
       " 4                  0             0             0             0             0   \n",
       " ...              ...           ...           ...           ...           ...   \n",
       " 361769             0             0             0             0             0   \n",
       " 361770             0             0             0             0             0   \n",
       " 361771             0             0             0             0             0   \n",
       " 361772             0             0             0             0             0   \n",
       " 361773             0             0             0             0             0   \n",
       " \n",
       "         soil_type_38  soil_type_39  soil_type_40  \n",
       " 0                  0             0             0  \n",
       " 1                  0             0             0  \n",
       " 2                  0             0             0  \n",
       " 3                  0             0             0  \n",
       " 4                  0             0             0  \n",
       " ...              ...           ...           ...  \n",
       " 361769             0             0             0  \n",
       " 361770             0             0             0  \n",
       " 361771             0             0             0  \n",
       " 361772             0             0             0  \n",
       " 361773             0             0             0  \n",
       " \n",
       " [361774 rows x 51 columns],\n",
       " 0         0\n",
       " 1         1\n",
       " 2         1\n",
       " 3         2\n",
       " 4         2\n",
       "          ..\n",
       " 361769    6\n",
       " 361770    6\n",
       " 361771    6\n",
       " 361772    6\n",
       " 361773    6\n",
       " Name: class, Length: 361774, dtype: int64)"
      ]
     },
     "execution_count": 14,
     "metadata": {},
     "output_type": "execute_result"
    }
   ],
   "source": [
    "from imblearn.over_sampling import SMOTE\n",
    "\n",
    "sample = SMOTE()\n",
    "\n",
    "x_samp, y_samp = sample.fit_resample(X,y)\n",
    "x_samp,y_samp"
   ]
  },
  {
   "cell_type": "code",
   "execution_count": 15,
   "id": "f749240d",
   "metadata": {
    "ExecuteTime": {
     "end_time": "2024-04-01T17:26:27.735216Z",
     "start_time": "2024-04-01T17:26:27.645285Z"
    }
   },
   "outputs": [],
   "source": [
    "from sklearn.model_selection import train_test_split\n",
    "from sklearn.preprocessing import RobustScaler\n",
    "ss = RobustScaler()\n",
    "\n",
    "Xtrain, Xtest, ytrain, ytest = train_test_split(X, y, test_size = 0.30, random_state = 23)\n",
    "\n",
    "Xtrain[numerical] = ss.fit_transform(Xtrain[numerical] )\n",
    "Xtest[numerical] = ss.transform(Xtest[numerical] )"
   ]
  },
  {
   "cell_type": "code",
   "execution_count": 16,
   "id": "65bef6fe",
   "metadata": {
    "ExecuteTime": {
     "end_time": "2024-04-01T17:26:44.908409Z",
     "start_time": "2024-04-01T17:26:27.737742Z"
    }
   },
   "outputs": [],
   "source": [
    "from sklearn.ensemble import RandomForestClassifier\n",
    "from sklearn.metrics import classification_report, confusion_matrix\n",
    "\n",
    "rf = RandomForestClassifier()\n",
    "\n",
    "rf.fit(Xtrain,ytrain)\n",
    "y_pred_train_rf = rf.predict(Xtrain)\n",
    "y_pred_test_rf = rf.predict(Xtest)"
   ]
  },
  {
   "cell_type": "code",
   "execution_count": 17,
   "id": "9edb61f9",
   "metadata": {
    "ExecuteTime": {
     "end_time": "2024-04-01T17:26:45.047743Z",
     "start_time": "2024-04-01T17:26:44.910933Z"
    }
   },
   "outputs": [
    {
     "name": "stdout",
     "output_type": "stream",
     "text": [
      "Training Result: \n",
      "\n",
      "              precision    recall  f1-score   support\n",
      "\n",
      "           0       0.99      1.00      0.99     36285\n",
      "           1       0.99      1.00      0.99     27153\n",
      "           2       0.99      0.95      0.97      2812\n",
      "           3       0.99      0.96      0.97      3125\n",
      "           4       0.99      0.98      0.98      5154\n",
      "           5       0.98      0.94      0.96      1819\n",
      "           6       0.97      0.88      0.92       927\n",
      "\n",
      "    accuracy                           0.99     77275\n",
      "   macro avg       0.98      0.95      0.97     77275\n",
      "weighted avg       0.99      0.99      0.99     77275\n",
      "\n",
      "Testing Result: \n",
      "\n",
      "              precision    recall  f1-score   support\n",
      "\n",
      "           0       0.88      0.94      0.91     15397\n",
      "           1       0.89      0.89      0.89     11753\n",
      "           2       0.80      0.65      0.72      1157\n",
      "           3       0.87      0.73      0.80      1383\n",
      "           4       0.86      0.83      0.84      2221\n",
      "           5       0.75      0.44      0.55       795\n",
      "           6       0.61      0.31      0.41       412\n",
      "\n",
      "    accuracy                           0.88     33118\n",
      "   macro avg       0.81      0.68      0.73     33118\n",
      "weighted avg       0.87      0.88      0.87     33118\n",
      "\n"
     ]
    }
   ],
   "source": [
    "print(\"Training Result: \\n\")\n",
    "print(classification_report(ytrain, y_pred_train_rf))\n",
    "\n",
    "print(\"Testing Result: \\n\")\n",
    "print(classification_report(ytest, y_pred_test_rf))"
   ]
  },
  {
   "cell_type": "code",
   "execution_count": 18,
   "id": "fad070ca",
   "metadata": {
    "ExecuteTime": {
     "end_time": "2024-04-01T17:27:44.010487Z",
     "start_time": "2024-04-01T17:26:45.049823Z"
    }
   },
   "outputs": [
    {
     "data": {
      "text/plain": [
       "array([0.86522161, 0.86353931, 0.86489809, 0.86839211, 0.86619217])"
      ]
     },
     "execution_count": 18,
     "metadata": {},
     "output_type": "execute_result"
    }
   ],
   "source": [
    "from sklearn.model_selection import cross_val_score\n",
    "\n",
    "cvscore = cross_val_score(rf,Xtrain,ytrain,cv=5,scoring='accuracy')\n",
    "cvscore"
   ]
  },
  {
   "cell_type": "code",
   "execution_count": 19,
   "id": "ee6cf63f",
   "metadata": {
    "ExecuteTime": {
     "end_time": "2024-04-01T17:28:42.669911Z",
     "start_time": "2024-04-01T17:27:44.012483Z"
    }
   },
   "outputs": [],
   "source": [
    "from sklearn.model_selection import StratifiedKFold\n",
    "\n",
    "sk = StratifiedKFold(n_splits=5,shuffle=True,random_state=15)\n",
    "cvscore = cross_val_score(rf,Xtrain,ytrain,cv = sk,scoring='accuracy')"
   ]
  },
  {
   "cell_type": "code",
   "execution_count": 20,
   "id": "db3626e6",
   "metadata": {
    "ExecuteTime": {
     "end_time": "2024-04-01T17:28:42.685397Z",
     "start_time": "2024-04-01T17:28:42.671861Z"
    }
   },
   "outputs": [
    {
     "data": {
      "text/plain": [
       "array([0.86858622, 0.86638628, 0.86683921, 0.86095115, 0.86548043])"
      ]
     },
     "execution_count": 20,
     "metadata": {},
     "output_type": "execute_result"
    }
   ],
   "source": [
    "cvscore"
   ]
  },
  {
   "cell_type": "markdown",
   "id": "cf55dbb3",
   "metadata": {
    "ExecuteTime": {
     "start_time": "2024-04-01T17:24:40.837Z"
    }
   },
   "source": [
    "from sklearn.model_selection import GridSearchCV\n",
    "\n",
    "parameters = { \"max_depth\":(5, 15, 30, 50, 65, 80), \"max_features\":(0.2, 0.4, 0.6, 0.8), \"min_samples_split\":(2, 5, 8, 10, 20)}\n",
    "\n",
    "sk = StratifiedKFold(n_splits=5,shuffle=True,random_state=15)\n",
    "\n",
    "grid = GridSearchCV(estimator = rf, param_grid = parameters, cv = sk, scoring = 'accuracy', n_jobs = -1)\n",
    "grid.fit(Xtrain, ytrain)"
   ]
  },
  {
   "cell_type": "code",
   "execution_count": 21,
   "id": "d3508d6c",
   "metadata": {
    "ExecuteTime": {
     "end_time": "2024-04-01T17:28:43.141295Z",
     "start_time": "2024-04-01T17:28:42.688392Z"
    }
   },
   "outputs": [
    {
     "ename": "NameError",
     "evalue": "name 'grid' is not defined",
     "output_type": "error",
     "traceback": [
      "\u001b[1;31m---------------------------------------------------------------------------\u001b[0m",
      "\u001b[1;31mNameError\u001b[0m                                 Traceback (most recent call last)",
      "\u001b[1;32m~\\AppData\\Local\\Temp\\ipykernel_25700\\82813924.py\u001b[0m in \u001b[0;36m<module>\u001b[1;34m\u001b[0m\n\u001b[1;32m----> 1\u001b[1;33m \u001b[0mbest_params\u001b[0m \u001b[1;33m=\u001b[0m \u001b[0mgrid\u001b[0m\u001b[1;33m.\u001b[0m\u001b[0mbest_estimator_\u001b[0m\u001b[1;33m\u001b[0m\u001b[1;33m\u001b[0m\u001b[0m\n\u001b[0m\u001b[0;32m      2\u001b[0m \u001b[0mbest_params\u001b[0m\u001b[1;33m\u001b[0m\u001b[1;33m\u001b[0m\u001b[0m\n",
      "\u001b[1;31mNameError\u001b[0m: name 'grid' is not defined"
     ]
    }
   ],
   "source": [
    "best_params = grid.best_estimator_\n",
    "best_params"
   ]
  },
  {
   "cell_type": "code",
   "execution_count": 22,
   "id": "f9624ca9",
   "metadata": {
    "ExecuteTime": {
     "end_time": "2024-04-01T17:29:14.097541Z",
     "start_time": "2024-04-01T17:29:10.854391Z"
    }
   },
   "outputs": [],
   "source": [
    "best_model = RandomForestClassifier(max_depth=65, max_features=0.6, min_samples_split=5)\n",
    "y_pred_train_rf = rf.predict(Xtrain)\n",
    "y_pred_test_rf = rf.predict(Xtest)\n"
   ]
  },
  {
   "cell_type": "code",
   "execution_count": 23,
   "id": "38f63aab",
   "metadata": {
    "ExecuteTime": {
     "end_time": "2024-04-01T17:29:15.163258Z",
     "start_time": "2024-04-01T17:29:15.006391Z"
    }
   },
   "outputs": [
    {
     "name": "stdout",
     "output_type": "stream",
     "text": [
      "Training Result: \n",
      "\n",
      "              precision    recall  f1-score   support\n",
      "\n",
      "           0       0.99      1.00      0.99     36285\n",
      "           1       0.99      1.00      0.99     27153\n",
      "           2       0.99      0.95      0.97      2812\n",
      "           3       0.99      0.96      0.97      3125\n",
      "           4       0.99      0.98      0.98      5154\n",
      "           5       0.98      0.94      0.96      1819\n",
      "           6       0.97      0.88      0.92       927\n",
      "\n",
      "    accuracy                           0.99     77275\n",
      "   macro avg       0.98      0.95      0.97     77275\n",
      "weighted avg       0.99      0.99      0.99     77275\n",
      "\n",
      "Testing Result: \n",
      "\n",
      "              precision    recall  f1-score   support\n",
      "\n",
      "           0       0.88      0.94      0.91     15397\n",
      "           1       0.89      0.89      0.89     11753\n",
      "           2       0.80      0.65      0.72      1157\n",
      "           3       0.87      0.73      0.80      1383\n",
      "           4       0.86      0.83      0.84      2221\n",
      "           5       0.75      0.44      0.55       795\n",
      "           6       0.61      0.31      0.41       412\n",
      "\n",
      "    accuracy                           0.88     33118\n",
      "   macro avg       0.81      0.68      0.73     33118\n",
      "weighted avg       0.87      0.88      0.87     33118\n",
      "\n"
     ]
    }
   ],
   "source": [
    "print(\"Training Result: \\n\")\n",
    "print(classification_report(ytrain, y_pred_train_rf))\n",
    "\n",
    "print(\"Testing Result: \\n\")\n",
    "print(classification_report(ytest, y_pred_test_rf))"
   ]
  },
  {
   "cell_type": "code",
   "execution_count": 24,
   "id": "8ce4ee1d",
   "metadata": {
    "ExecuteTime": {
     "end_time": "2024-04-01T17:29:16.823554Z",
     "start_time": "2024-04-01T17:29:16.798426Z"
    }
   },
   "outputs": [
    {
     "name": "stdout",
     "output_type": "stream",
     "text": [
      "Training Result: \n",
      "\n",
      "[[36182    58     7    11    16     7     4]\n",
      " [   60 27039     6    14    15     9    10]\n",
      " [   69    57  2667     5     6     5     3]\n",
      " [   60    52     7  2987    13     3     3]\n",
      " [   54    47    10     4  5031     6     2]\n",
      " [   47    51     5     7     6  1701     2]\n",
      " [   61    34     2     3     9     6   812]]\n",
      "Testing Result: \n",
      "\n",
      "[[14467   664    58    45    80    57    26]\n",
      " [ 1074 10499    28    60    31    32    29]\n",
      " [  180   105   748     7   103     6     8]\n",
      " [  148   186     9  1013    21     4     2]\n",
      " [  183    86    68    18  1840    12    14]\n",
      " [  278   119    10    12    27   346     3]\n",
      " [  145    88    10     6    34     3   126]]\n"
     ]
    }
   ],
   "source": [
    "print(\"Training Result: \\n\")\n",
    "print(confusion_matrix(ytrain, y_pred_train_rf))\n",
    "\n",
    "print(\"Testing Result: \\n\")\n",
    "print(confusion_matrix(ytest, y_pred_test_rf))"
   ]
  },
  {
   "cell_type": "code",
   "execution_count": 25,
   "id": "ae464ea2",
   "metadata": {
    "ExecuteTime": {
     "end_time": "2024-04-01T17:29:17.561306Z",
     "start_time": "2024-04-01T17:29:17.534023Z"
    }
   },
   "outputs": [
    {
     "ename": "TypeError",
     "evalue": "__init__() got an unexpected keyword argument 'param_grid'",
     "output_type": "error",
     "traceback": [
      "\u001b[1;31m---------------------------------------------------------------------------\u001b[0m",
      "\u001b[1;31mTypeError\u001b[0m                                 Traceback (most recent call last)",
      "\u001b[1;32m~\\AppData\\Local\\Temp\\ipykernel_25700\\2907604096.py\u001b[0m in \u001b[0;36m<module>\u001b[1;34m\u001b[0m\n\u001b[0;32m      4\u001b[0m \u001b[0msk\u001b[0m \u001b[1;33m=\u001b[0m \u001b[0mStratifiedKFold\u001b[0m\u001b[1;33m(\u001b[0m\u001b[0mn_splits\u001b[0m \u001b[1;33m=\u001b[0m \u001b[1;36m5\u001b[0m\u001b[1;33m,\u001b[0m \u001b[0mshuffle\u001b[0m \u001b[1;33m=\u001b[0m \u001b[1;32mTrue\u001b[0m\u001b[1;33m,\u001b[0m \u001b[0mrandom_state\u001b[0m \u001b[1;33m=\u001b[0m \u001b[1;36m15\u001b[0m\u001b[1;33m)\u001b[0m\u001b[1;33m\u001b[0m\u001b[1;33m\u001b[0m\u001b[0m\n\u001b[0;32m      5\u001b[0m \u001b[1;33m\u001b[0m\u001b[0m\n\u001b[1;32m----> 6\u001b[1;33m \u001b[0mrandom\u001b[0m \u001b[1;33m=\u001b[0m \u001b[0mRandomizedSearchCV\u001b[0m\u001b[1;33m(\u001b[0m\u001b[0mestimator\u001b[0m \u001b[1;33m=\u001b[0m \u001b[0mrf\u001b[0m\u001b[1;33m,\u001b[0m \u001b[0mparam_grid\u001b[0m \u001b[1;33m=\u001b[0m \u001b[0mparameters\u001b[0m\u001b[1;33m,\u001b[0m \u001b[0mcv\u001b[0m \u001b[1;33m=\u001b[0m \u001b[0msk\u001b[0m\u001b[1;33m,\u001b[0m \u001b[0mscoring\u001b[0m \u001b[1;33m=\u001b[0m \u001b[1;34m'accuracy'\u001b[0m\u001b[1;33m,\u001b[0m \u001b[0mn_jobs\u001b[0m \u001b[1;33m=\u001b[0m \u001b[1;33m-\u001b[0m\u001b[1;36m1\u001b[0m\u001b[1;33m)\u001b[0m\u001b[1;33m\u001b[0m\u001b[1;33m\u001b[0m\u001b[0m\n\u001b[0m\u001b[0;32m      7\u001b[0m \u001b[0mrandom\u001b[0m\u001b[1;33m.\u001b[0m\u001b[0mfit\u001b[0m\u001b[1;33m(\u001b[0m\u001b[0mXtrain\u001b[0m\u001b[1;33m,\u001b[0m \u001b[0mytrain\u001b[0m\u001b[1;33m)\u001b[0m\u001b[1;33m\u001b[0m\u001b[1;33m\u001b[0m\u001b[0m\n",
      "\u001b[1;31mTypeError\u001b[0m: __init__() got an unexpected keyword argument 'param_grid'"
     ]
    }
   ],
   "source": [
    "from sklearn.model_selection import RandomizedSearchCV\n",
    "\n",
    "parameters = { \"max_depth\":(5, 15, 30, 50, 65, 80), \"max_features\":(0.2, 0.4, 0.6, 0.8), \"min_samples_split\":(2, 5, 8, 10, 20)}\n",
    "sk = StratifiedKFold(n_splits = 5, shuffle = True, random_state = 15)\n",
    "\n",
    "random = RandomizedSearchCV(estimator = rf, param_grid = parameters, cv = sk, scoring = 'accuracy', n_jobs = -1)\n",
    "random.fit(Xtrain, ytrain)"
   ]
  },
  {
   "cell_type": "code",
   "execution_count": 26,
   "id": "03bcfa23",
   "metadata": {
    "ExecuteTime": {
     "end_time": "2024-04-01T17:29:20.284902Z",
     "start_time": "2024-04-01T17:29:20.272575Z"
    }
   },
   "outputs": [
    {
     "ename": "NameError",
     "evalue": "name 'grid' is not defined",
     "output_type": "error",
     "traceback": [
      "\u001b[1;31m---------------------------------------------------------------------------\u001b[0m",
      "\u001b[1;31mNameError\u001b[0m                                 Traceback (most recent call last)",
      "\u001b[1;32m~\\AppData\\Local\\Temp\\ipykernel_25700\\2019037674.py\u001b[0m in \u001b[0;36m<module>\u001b[1;34m\u001b[0m\n\u001b[1;32m----> 1\u001b[1;33m \u001b[0mbest_params\u001b[0m \u001b[1;33m=\u001b[0m \u001b[0mgrid\u001b[0m\u001b[1;33m.\u001b[0m\u001b[0mbest_estimator_\u001b[0m\u001b[1;33m\u001b[0m\u001b[1;33m\u001b[0m\u001b[0m\n\u001b[0m\u001b[0;32m      2\u001b[0m \u001b[0mbest_params\u001b[0m\u001b[1;33m\u001b[0m\u001b[1;33m\u001b[0m\u001b[0m\n\u001b[0;32m      3\u001b[0m \u001b[0mbest_model\u001b[0m \u001b[1;33m=\u001b[0m \u001b[0mRandomForestClassifier\u001b[0m\u001b[1;33m(\u001b[0m\u001b[1;33m**\u001b[0m\u001b[0mbest_params\u001b[0m\u001b[1;33m)\u001b[0m\u001b[1;33m\u001b[0m\u001b[1;33m\u001b[0m\u001b[0m\n\u001b[0;32m      4\u001b[0m \u001b[0my_pred_train_rf\u001b[0m \u001b[1;33m=\u001b[0m \u001b[0mrf\u001b[0m\u001b[1;33m.\u001b[0m\u001b[0mpredict\u001b[0m\u001b[1;33m(\u001b[0m\u001b[0mXtrain\u001b[0m\u001b[1;33m)\u001b[0m\u001b[1;33m\u001b[0m\u001b[1;33m\u001b[0m\u001b[0m\n\u001b[0;32m      5\u001b[0m \u001b[0my_pred_test_rf\u001b[0m \u001b[1;33m=\u001b[0m \u001b[0mrf\u001b[0m\u001b[1;33m.\u001b[0m\u001b[0mpredict\u001b[0m\u001b[1;33m(\u001b[0m\u001b[0mXtest\u001b[0m\u001b[1;33m)\u001b[0m\u001b[1;33m\u001b[0m\u001b[1;33m\u001b[0m\u001b[0m\n",
      "\u001b[1;31mNameError\u001b[0m: name 'grid' is not defined"
     ]
    }
   ],
   "source": [
    "best_params = grid.best_estimator_\n",
    "best_params\n",
    "best_model = RandomForestClassifier(**best_params)\n",
    "y_pred_train_rf = rf.predict(Xtrain)\n",
    "y_pred_test_rf = rf.predict(Xtest)"
   ]
  },
  {
   "cell_type": "code",
   "execution_count": 27,
   "id": "7b0ae213",
   "metadata": {
    "ExecuteTime": {
     "end_time": "2024-04-01T17:29:20.957011Z",
     "start_time": "2024-04-01T17:29:20.814344Z"
    }
   },
   "outputs": [
    {
     "name": "stdout",
     "output_type": "stream",
     "text": [
      "Training Result: \n",
      "\n",
      "              precision    recall  f1-score   support\n",
      "\n",
      "           0       0.99      1.00      0.99     36285\n",
      "           1       0.99      1.00      0.99     27153\n",
      "           2       0.99      0.95      0.97      2812\n",
      "           3       0.99      0.96      0.97      3125\n",
      "           4       0.99      0.98      0.98      5154\n",
      "           5       0.98      0.94      0.96      1819\n",
      "           6       0.97      0.88      0.92       927\n",
      "\n",
      "    accuracy                           0.99     77275\n",
      "   macro avg       0.98      0.95      0.97     77275\n",
      "weighted avg       0.99      0.99      0.99     77275\n",
      "\n",
      "Testing Result: \n",
      "\n",
      "              precision    recall  f1-score   support\n",
      "\n",
      "           0       0.88      0.94      0.91     15397\n",
      "           1       0.89      0.89      0.89     11753\n",
      "           2       0.80      0.65      0.72      1157\n",
      "           3       0.87      0.73      0.80      1383\n",
      "           4       0.86      0.83      0.84      2221\n",
      "           5       0.75      0.44      0.55       795\n",
      "           6       0.61      0.31      0.41       412\n",
      "\n",
      "    accuracy                           0.88     33118\n",
      "   macro avg       0.81      0.68      0.73     33118\n",
      "weighted avg       0.87      0.88      0.87     33118\n",
      "\n"
     ]
    }
   ],
   "source": [
    "print(\"Training Result: \\n\")\n",
    "print(classification_report(ytrain, y_pred_train_rf))\n",
    "\n",
    "print(\"Testing Result: \\n\")\n",
    "print(classification_report(ytest, y_pred_test_rf))"
   ]
  },
  {
   "cell_type": "code",
   "execution_count": 28,
   "id": "62a4db1a",
   "metadata": {
    "ExecuteTime": {
     "end_time": "2024-04-01T17:29:21.283070Z",
     "start_time": "2024-04-01T17:29:21.261508Z"
    }
   },
   "outputs": [
    {
     "name": "stdout",
     "output_type": "stream",
     "text": [
      "Training Result: \n",
      "\n",
      "[[36182    58     7    11    16     7     4]\n",
      " [   60 27039     6    14    15     9    10]\n",
      " [   69    57  2667     5     6     5     3]\n",
      " [   60    52     7  2987    13     3     3]\n",
      " [   54    47    10     4  5031     6     2]\n",
      " [   47    51     5     7     6  1701     2]\n",
      " [   61    34     2     3     9     6   812]]\n",
      "Testing Result: \n",
      "\n",
      "[[14467   664    58    45    80    57    26]\n",
      " [ 1074 10499    28    60    31    32    29]\n",
      " [  180   105   748     7   103     6     8]\n",
      " [  148   186     9  1013    21     4     2]\n",
      " [  183    86    68    18  1840    12    14]\n",
      " [  278   119    10    12    27   346     3]\n",
      " [  145    88    10     6    34     3   126]]\n"
     ]
    }
   ],
   "source": [
    "print(\"Training Result: \\n\")\n",
    "print(confusion_matrix(ytrain, y_pred_train_rf))\n",
    "\n",
    "print(\"Testing Result: \\n\")\n",
    "print(confusion_matrix(ytest, y_pred_test_rf))"
   ]
  },
  {
   "cell_type": "code",
   "execution_count": 29,
   "id": "9e41f196",
   "metadata": {
    "ExecuteTime": {
     "end_time": "2024-04-01T17:29:21.703631Z",
     "start_time": "2024-04-01T17:29:21.678569Z"
    }
   },
   "outputs": [
    {
     "ename": "NameError",
     "evalue": "name 'categoricals' is not defined",
     "output_type": "error",
     "traceback": [
      "\u001b[1;31m---------------------------------------------------------------------------\u001b[0m",
      "\u001b[1;31mNameError\u001b[0m                                 Traceback (most recent call last)",
      "\u001b[1;32m~\\AppData\\Local\\Temp\\ipykernel_25700\\35805209.py\u001b[0m in \u001b[0;36m<module>\u001b[1;34m\u001b[0m\n\u001b[0;32m      2\u001b[0m \u001b[0mplotnumber\u001b[0m \u001b[1;33m=\u001b[0m\u001b[1;36m1\u001b[0m\u001b[1;33m\u001b[0m\u001b[1;33m\u001b[0m\u001b[0m\n\u001b[0;32m      3\u001b[0m \u001b[1;33m\u001b[0m\u001b[0m\n\u001b[1;32m----> 4\u001b[1;33m \u001b[1;32mfor\u001b[0m \u001b[0mcolumn\u001b[0m \u001b[1;32min\u001b[0m \u001b[0mcategoricals\u001b[0m\u001b[1;33m:\u001b[0m\u001b[1;33m\u001b[0m\u001b[1;33m\u001b[0m\u001b[0m\n\u001b[0m\u001b[0;32m      5\u001b[0m     \u001b[0max\u001b[0m \u001b[1;33m=\u001b[0m \u001b[0mplt\u001b[0m\u001b[1;33m.\u001b[0m\u001b[0msubplot\u001b[0m\u001b[1;33m(\u001b[0m\u001b[1;36m16\u001b[0m\u001b[1;33m,\u001b[0m\u001b[1;36m3\u001b[0m\u001b[1;33m,\u001b[0m\u001b[0mplotnumber\u001b[0m\u001b[1;33m)\u001b[0m\u001b[1;33m\u001b[0m\u001b[1;33m\u001b[0m\u001b[0m\n\u001b[0;32m      6\u001b[0m     \u001b[0msns\u001b[0m\u001b[1;33m.\u001b[0m\u001b[0mboxplot\u001b[0m\u001b[1;33m(\u001b[0m\u001b[0mdata\u001b[0m\u001b[1;33m=\u001b[0m \u001b[0mdf\u001b[0m\u001b[1;33m,\u001b[0m\u001b[0mx\u001b[0m\u001b[1;33m=\u001b[0m\u001b[0mdf\u001b[0m\u001b[1;33m[\u001b[0m\u001b[0mcolumn\u001b[0m\u001b[1;33m]\u001b[0m\u001b[1;33m,\u001b[0m\u001b[0my\u001b[0m \u001b[1;33m=\u001b[0m \u001b[0my\u001b[0m \u001b[1;33m)\u001b[0m\u001b[1;33m\u001b[0m\u001b[1;33m\u001b[0m\u001b[0m\n",
      "\u001b[1;31mNameError\u001b[0m: name 'categoricals' is not defined"
     ]
    },
    {
     "data": {
      "text/plain": [
       "<Figure size 1500x5000 with 0 Axes>"
      ]
     },
     "metadata": {},
     "output_type": "display_data"
    }
   ],
   "source": [
    "plt.figure(figsize=(15,50), facecolor='white')\n",
    "plotnumber =1\n",
    "\n",
    "for column in categoricals:\n",
    "    ax = plt.subplot(16,3,plotnumber)\n",
    "    sns.boxplot(data= df,x=df[column],y = y )\n",
    "    plt.xlabel(column,fontsize=10)\n",
    "    plotnumber+=1\n",
    "plt.show()"
   ]
  },
  {
   "cell_type": "code",
   "execution_count": 30,
   "id": "4c76f662",
   "metadata": {
    "ExecuteTime": {
     "end_time": "2024-04-01T17:29:22.171410Z",
     "start_time": "2024-04-01T17:29:22.070686Z"
    }
   },
   "outputs": [
    {
     "data": {
      "text/plain": [
       "<AxesSubplot:xlabel='class'>"
      ]
     },
     "execution_count": 30,
     "metadata": {},
     "output_type": "execute_result"
    },
    {
     "data": {
      "image/png": "[encoded data removed]",
      "text/plain": [
       "<Figure size 640x480 with 1 Axes>"
      ]
     },
     "metadata": {},
     "output_type": "display_data"
    }
   ],
   "source": [
    "df['class'].value_counts().plot(kind = 'bar')"
   ]
  },
  {
   "cell_type": "code",
   "execution_count": 31,
   "id": "fd4ba082",
   "metadata": {
    "ExecuteTime": {
     "end_time": "2024-04-01T17:29:52.787313Z",
     "start_time": "2024-04-01T17:29:22.535925Z"
    }
   },
   "outputs": [
    {
     "data": {
      "text/plain": [
       "(        elevation  aspect  slope  horizontal_distance_to_hydrology  \\\n",
       " 0            2754     146      5                               150   \n",
       " 1            3219      21      8                                67   \n",
       " 2            2965     337     16                                42   \n",
       " 3            2368      14     15                               150   \n",
       " 4            2366     165      3                               390   \n",
       " ...           ...     ...    ...                               ...   \n",
       " 361769       2740      68      5                               256   \n",
       " 361770       2923      69      9                               499   \n",
       " 361771       2180      93     19                               117   \n",
       " 361772       3074     109     12                                 0   \n",
       " 361773       2334     269     25                               374   \n",
       " \n",
       "         Vertical_Distance_To_Hydrology  Horizontal_Distance_To_Roadways  \\\n",
       " 0                                    2                             1790   \n",
       " 1                                   -1                             2869   \n",
       " 2                                    7                             4288   \n",
       " 3                                   65                             1006   \n",
       " 4                                  156                             1165   \n",
       " ...                                ...                              ...   \n",
       " 361769                              40                             1638   \n",
       " 361770                               8                             1746   \n",
       " 361771                              54                             1195   \n",
       " 361772                               0                             2180   \n",
       " 361773                              40                             1204   \n",
       " \n",
       "         Horizontal_Distance_To_Fire_Points  wilderness_area1  \\\n",
       " 0                                      700                 1   \n",
       " 1                                     1825                 0   \n",
       " 2                                      324                 1   \n",
       " 3                                      812                 0   \n",
       " 4                                      582                 0   \n",
       " ...                                    ...               ...   \n",
       " 361769                                2190                 0   \n",
       " 361770                                2534                 1   \n",
       " 361771                                 567                 0   \n",
       " 361772                                3573                 0   \n",
       " 361773                                 766                 0   \n",
       " \n",
       "         wilderness_area2  wilderness_area3  ...  soil_type_31  soil_type_32  \\\n",
       " 0                      0                 0  ...             0             0   \n",
       " 1                      0                 1  ...             1             0   \n",
       " 2                      0                 0  ...             0             0   \n",
       " 3                      0                 0  ...             0             0   \n",
       " 4                      0                 0  ...             0             0   \n",
       " ...                  ...               ...  ...           ...           ...   \n",
       " 361769                 0                 0  ...             0             0   \n",
       " 361770                 0                 0  ...             0             0   \n",
       " 361771                 0                 0  ...             0             0   \n",
       " 361772                 0                 0  ...             0             0   \n",
       " 361773                 0                 0  ...             0             0   \n",
       " \n",
       "         soil_type_33  soil_type_34  soil_type_35  soil_type_36  soil_type_37  \\\n",
       " 0                  0             0             0             0             0   \n",
       " 1                  0             0             0             0             0   \n",
       " 2                  0             0             0             0             0   \n",
       " 3                  0             0             0             0             0   \n",
       " 4                  0             0             0             0             0   \n",
       " ...              ...           ...           ...           ...           ...   \n",
       " 361769             0             0             0             0             0   \n",
       " 361770             0             0             0             0             0   \n",
       " 361771             0             0             0             0             0   \n",
       " 361772             0             0             0             0             0   \n",
       " 361773             0             0             0             0             0   \n",
       " \n",
       "         soil_type_38  soil_type_39  soil_type_40  \n",
       " 0                  0             0             0  \n",
       " 1                  0             0             0  \n",
       " 2                  0             0             0  \n",
       " 3                  0             0             0  \n",
       " 4                  0             0             0  \n",
       " ...              ...           ...           ...  \n",
       " 361769             0             0             0  \n",
       " 361770             0             0             0  \n",
       " 361771             0             0             0  \n",
       " 361772             0             0             0  \n",
       " 361773             0             0             0  \n",
       " \n",
       " [361774 rows x 51 columns],\n",
       " 0         0\n",
       " 1         1\n",
       " 2         1\n",
       " 3         2\n",
       " 4         2\n",
       "          ..\n",
       " 361769    6\n",
       " 361770    6\n",
       " 361771    6\n",
       " 361772    6\n",
       " 361773    6\n",
       " Name: class, Length: 361774, dtype: int64)"
      ]
     },
     "execution_count": 31,
     "metadata": {},
     "output_type": "execute_result"
    }
   ],
   "source": [
    "from imblearn.over_sampling import SMOTE\n",
    "\n",
    "sample = SMOTE()\n",
    "X_samp, y_samp = sample.fit_resample(X,y)\n",
    "X_samp, y_samp"
   ]
  },
  {
   "cell_type": "code",
   "execution_count": null,
   "id": "0be2ef0b",
   "metadata": {
    "ExecuteTime": {
     "end_time": "2024-04-01T17:29:52.828765Z",
     "start_time": "2024-04-01T17:29:52.828765Z"
    }
   },
   "outputs": [],
   "source": [
    "from sklearn.model_selection import train_test_split\n",
    "from sklearn.preprocessing import RobustScaler\n",
    "ss = RobustScaler()\n",
    "\n",
    "Xtrain, Xtest, ytrain, ytest = train_test_split(X, y, test_size = 0.30, random_state = 23)\n",
    "\n",
    "Xtrain[numericals] = ss.fit_transform(Xtrain[numericals] )\n",
    "Xtest[numericals] = ss.transform(Xtest[numericals] )"
   ]
  },
  {
   "cell_type": "code",
   "execution_count": null,
   "id": "b0d29900",
   "metadata": {
    "ExecuteTime": {
     "end_time": "2024-04-01T17:29:52.839109Z",
     "start_time": "2024-04-01T17:29:52.839109Z"
    }
   },
   "outputs": [],
   "source": [
    "from sklearn.ensemble import RandomForestClassifier\n",
    "from sklearn.metrics import classification_report, confusion_matrix\n",
    "rf = RandomForestClassifier()\n",
    "rf.fit(Xtrain, ytrain)\n",
    "y_pred_train_rf = rf.predict(Xtrain)\n",
    "y_pred_test_rf = rf.predict(Xtest)"
   ]
  },
  {
   "cell_type": "code",
   "execution_count": null,
   "id": "978b6e50",
   "metadata": {
    "ExecuteTime": {
     "end_time": "2024-04-01T17:29:52.850646Z",
     "start_time": "2024-04-01T17:29:52.850646Z"
    }
   },
   "outputs": [],
   "source": [
    "print(\"Training Result: \\n\")\n",
    "print(classification_report(ytrain, y_pred_train_rf))\n",
    "\n",
    "print(\"Testing Result: \\n\")\n",
    "print(classification_report(ytest, y_pred_test_rf))"
   ]
  },
  {
   "cell_type": "code",
   "execution_count": null,
   "id": "204e3dcc",
   "metadata": {
    "ExecuteTime": {
     "end_time": "2024-04-01T17:29:52.861193Z",
     "start_time": "2024-04-01T17:29:52.861193Z"
    }
   },
   "outputs": [],
   "source": [
    "from sklearn.model_selection import cross_val_score\n",
    "cvscore = cross_val_score(rf, Xtrain, ytrain, cv= 5, scoring = \"accuracy\")\n",
    "cvscore"
   ]
  },
  {
   "cell_type": "code",
   "execution_count": null,
   "id": "0fe1d94d",
   "metadata": {},
   "outputs": [],
   "source": []
  }
 ],
 "metadata": {
  "kernelspec": {
   "display_name": "Python 3 (ipykernel)",
   "language": "python",
   "name": "python3"
  },
  "language_info": {
   "codemirror_mode": {
    "name": "ipython",
    "version": 3
   },
   "file_extension": ".py",
   "mimetype": "text/x-python",
   "name": "python",
   "nbconvert_exporter": "python",
   "pygments_lexer": "ipython3",
   "version": "3.9.13"
  },
  "varInspector": {
   "cols": {
    "lenName": 16,
    "lenType": 16,
    "lenVar": 40
   },
   "kernels_config": {
    "python": {
     "delete_cmd_postfix": "",
     "delete_cmd_prefix": "del ",
     "library": "var_list.py",
     "varRefreshCmd": "print(var_dic_list())"
    },
    "r": {
     "delete_cmd_postfix": ") ",
     "delete_cmd_prefix": "rm(",
     "library": "var_list.r",
     "varRefreshCmd": "cat(var_dic_list()) "
    }
   },
   "types_to_exclude": [
    "module",
    "function",
    "builtin_function_or_method",
    "instance",
    "_Feature"
   ],
   "window_display": false
  }
 },
 "nbformat": 4,
 "nbformat_minor": 5
}
